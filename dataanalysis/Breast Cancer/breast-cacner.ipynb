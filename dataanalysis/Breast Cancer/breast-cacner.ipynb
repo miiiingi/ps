{
 "cells": [
  {
   "cell_type": "code",
   "execution_count": 4,
   "metadata": {},
   "outputs": [
    {
     "name": "stdout",
     "output_type": "stream",
     "text": [
      "<class 'pandas.core.frame.DataFrame'>\n",
      "RangeIndex: 569 entries, 0 to 568\n",
      "Data columns (total 32 columns):\n",
      " #   Column                   Non-Null Count  Dtype  \n",
      "---  ------                   --------------  -----  \n",
      " 0   id                       569 non-null    int64  \n",
      " 1   diagnosis                569 non-null    object \n",
      " 2   radius_mean              569 non-null    float64\n",
      " 3   texture_mean             569 non-null    float64\n",
      " 4   perimeter_mean           569 non-null    float64\n",
      " 5   area_mean                569 non-null    float64\n",
      " 6   smoothness_mean          569 non-null    float64\n",
      " 7   compactness_mean         569 non-null    float64\n",
      " 8   concavity_mean           569 non-null    float64\n",
      " 9   concave points_mean      569 non-null    float64\n",
      " 10  symmetry_mean            569 non-null    float64\n",
      " 11  fractal_dimension_mean   569 non-null    float64\n",
      " 12  radius_se                569 non-null    float64\n",
      " 13  texture_se               569 non-null    float64\n",
      " 14  perimeter_se             569 non-null    float64\n",
      " 15  area_se                  569 non-null    float64\n",
      " 16  smoothness_se            569 non-null    float64\n",
      " 17  compactness_se           569 non-null    float64\n",
      " 18  concavity_se             569 non-null    float64\n",
      " 19  concave points_se        569 non-null    float64\n",
      " 20  symmetry_se              569 non-null    float64\n",
      " 21  fractal_dimension_se     569 non-null    float64\n",
      " 22  radius_worst             569 non-null    float64\n",
      " 23  texture_worst            569 non-null    float64\n",
      " 24  perimeter_worst          569 non-null    float64\n",
      " 25  area_worst               569 non-null    float64\n",
      " 26  smoothness_worst         569 non-null    float64\n",
      " 27  compactness_worst        569 non-null    float64\n",
      " 28  concavity_worst          569 non-null    float64\n",
      " 29  concave points_worst     569 non-null    float64\n",
      " 30  symmetry_worst           569 non-null    float64\n",
      " 31  fractal_dimension_worst  569 non-null    float64\n",
      "dtypes: float64(30), int64(1), object(1)\n",
      "memory usage: 142.4+ KB\n",
      "None\n"
     ]
    }
   ],
   "source": [
    "import pandas as pd\n",
    "df = pd.read_csv('breast-cancer.csv')\n",
    "print(df.info())\n",
    "df.set_index('id', inplace=True)"
   ]
  },
  {
   "cell_type": "code",
   "execution_count": 5,
   "metadata": {},
   "outputs": [],
   "source": [
    "X = df.drop('diagnosis', axis=1)\n",
    "y = df['diagnosis']"
   ]
  },
  {
   "cell_type": "code",
   "execution_count": 6,
   "metadata": {},
   "outputs": [],
   "source": [
    "from sklearn.model_selection import train_test_split\n",
    "from sklearn.preprocessing import StandardScaler\n",
    "train_X, test_X, train_y, test_y = train_test_split(X, y, test_size=0.2, random_state=0, stratify=y, shuffle=True)\n",
    "train_X = StandardScaler().fit_transform(train_X)\n",
    "test_X = StandardScaler().fit_transform(test_X)"
   ]
  },
  {
   "cell_type": "code",
   "execution_count": 16,
   "metadata": {},
   "outputs": [],
   "source": [
    "from sklearn.linear_model import LogisticRegression, RidgeClassifier\n",
    "from sklearn.svm import SVC\n",
    "from sklearn.naive_bayes import GaussianNB\n",
    "from sklearn.neighbors import KNeighborsClassifier\n",
    "\n",
    "from sklearn.ensemble import RandomForestClassifier, GradientBoostingClassifier, BaggingClassifier, AdaBoostClassifier, ExtraTreesClassifier, VotingClassifier"
   ]
  },
  {
   "cell_type": "code",
   "execution_count": 42,
   "metadata": {},
   "outputs": [
    {
     "name": "stderr",
     "output_type": "stream",
     "text": [
      "/Users/mingi/anaconda3/envs/dataanalysis/lib/python3.9/site-packages/sklearn/ensemble/_weight_boosting.py:527: FutureWarning: The SAMME.R algorithm (the default) is deprecated and will be removed in 1.6. Use the SAMME algorithm to circumvent this warning.\n",
      "  warnings.warn(\n",
      "/Users/mingi/anaconda3/envs/dataanalysis/lib/python3.9/site-packages/sklearn/ensemble/_weight_boosting.py:527: FutureWarning: The SAMME.R algorithm (the default) is deprecated and will be removed in 1.6. Use the SAMME algorithm to circumvent this warning.\n",
      "  warnings.warn(\n",
      "/Users/mingi/anaconda3/envs/dataanalysis/lib/python3.9/site-packages/sklearn/ensemble/_weight_boosting.py:527: FutureWarning: The SAMME.R algorithm (the default) is deprecated and will be removed in 1.6. Use the SAMME algorithm to circumvent this warning.\n",
      "  warnings.warn(\n",
      "/Users/mingi/anaconda3/envs/dataanalysis/lib/python3.9/site-packages/sklearn/ensemble/_weight_boosting.py:527: FutureWarning: The SAMME.R algorithm (the default) is deprecated and will be removed in 1.6. Use the SAMME algorithm to circumvent this warning.\n",
      "  warnings.warn(\n",
      "/Users/mingi/anaconda3/envs/dataanalysis/lib/python3.9/site-packages/sklearn/ensemble/_weight_boosting.py:527: FutureWarning: The SAMME.R algorithm (the default) is deprecated and will be removed in 1.6. Use the SAMME algorithm to circumvent this warning.\n",
      "  warnings.warn(\n",
      "/Users/mingi/anaconda3/envs/dataanalysis/lib/python3.9/site-packages/sklearn/ensemble/_weight_boosting.py:527: FutureWarning: The SAMME.R algorithm (the default) is deprecated and will be removed in 1.6. Use the SAMME algorithm to circumvent this warning.\n",
      "  warnings.warn(\n",
      "/Users/mingi/anaconda3/envs/dataanalysis/lib/python3.9/site-packages/sklearn/ensemble/_weight_boosting.py:527: FutureWarning: The SAMME.R algorithm (the default) is deprecated and will be removed in 1.6. Use the SAMME algorithm to circumvent this warning.\n",
      "  warnings.warn(\n",
      "/Users/mingi/anaconda3/envs/dataanalysis/lib/python3.9/site-packages/sklearn/ensemble/_weight_boosting.py:527: FutureWarning: The SAMME.R algorithm (the default) is deprecated and will be removed in 1.6. Use the SAMME algorithm to circumvent this warning.\n",
      "  warnings.warn(\n",
      "/Users/mingi/anaconda3/envs/dataanalysis/lib/python3.9/site-packages/sklearn/ensemble/_weight_boosting.py:527: FutureWarning: The SAMME.R algorithm (the default) is deprecated and will be removed in 1.6. Use the SAMME algorithm to circumvent this warning.\n",
      "  warnings.warn(\n",
      "/Users/mingi/anaconda3/envs/dataanalysis/lib/python3.9/site-packages/sklearn/ensemble/_weight_boosting.py:527: FutureWarning: The SAMME.R algorithm (the default) is deprecated and will be removed in 1.6. Use the SAMME algorithm to circumvent this warning.\n",
      "  warnings.warn(\n",
      "/Users/mingi/anaconda3/envs/dataanalysis/lib/python3.9/site-packages/sklearn/ensemble/_weight_boosting.py:527: FutureWarning: The SAMME.R algorithm (the default) is deprecated and will be removed in 1.6. Use the SAMME algorithm to circumvent this warning.\n",
      "  warnings.warn(\n"
     ]
    }
   ],
   "source": [
    "from sklearn.model_selection import cross_val_score\n",
    "from sklearn.metrics import accuracy_score, f1_score\n",
    "score_list = []\n",
    "# for cls in [LogisticRegression, RidgeClassifier, SVC, GaussianNB, RandomForestClassifier, GradientBoostingClassifier, BaggingClassifier, AdaBoostClassifier, ExtraTreesClassifier, KNeighborsClassifier]:\n",
    "for cls in [LogisticRegression(), RidgeClassifier(), SVC(), GaussianNB(), RandomForestClassifier(), GradientBoostingClassifier(), BaggingClassifier(), AdaBoostClassifier(), ExtraTreesClassifier(), KNeighborsClassifier()]:\n",
    "    scores = cross_val_score(cls, train_X, train_y, cv=10)\n",
    "    cls.fit(train_X, train_y)\n",
    "    pred = cls.predict(test_X)\n",
    "    score_list.append((cls, scores.mean(), accuracy_score(test_y, pred), f1_score(test_y, pred, pos_label='M')))"
   ]
  },
  {
   "cell_type": "code",
   "execution_count": 43,
   "metadata": {},
   "outputs": [
    {
     "name": "stdout",
     "output_type": "stream",
     "text": [
      "(LogisticRegression(), np.float64(0.9823671497584542), 0.9824561403508771, np.float64(0.975609756097561))\n",
      "\n",
      "(VotingClassifier(estimators=[('logreg', LogisticRegression()), ('svm', SVC()),\n",
      "                             ('knn', KNeighborsClassifier())]), np.float64(0.9780193236714976), 0.9649122807017544, np.float64(0.9523809523809523))\n",
      "\n",
      "(SVC(), np.float64(0.9757487922705315), 0.9649122807017544, np.float64(0.9523809523809523))\n",
      "\n",
      "(ExtraTreesClassifier(), np.float64(0.9714975845410627), 0.956140350877193, np.float64(0.9411764705882353))\n",
      "\n",
      "(KNeighborsClassifier(), np.float64(0.9691787439613526), 0.9385964912280702, np.float64(0.9195402298850575))\n",
      "\n",
      "(RidgeClassifier(), np.float64(0.9604830917874396), 0.956140350877193, np.float64(0.9382716049382716))\n",
      "\n",
      "(AdaBoostClassifier(), np.float64(0.9581642512077295), 0.9649122807017544, np.float64(0.9512195121951219))\n",
      "\n",
      "(RandomForestClassifier(), np.float64(0.9540096618357488), 0.9385964912280702, np.float64(0.9195402298850575))\n",
      "\n",
      "(BaggingClassifier(), np.float64(0.9472946859903383), 0.9736842105263158, np.float64(0.963855421686747))\n",
      "\n",
      "(GradientBoostingClassifier(), np.float64(0.9471980676328503), 0.9649122807017544, np.float64(0.9523809523809523))\n",
      "\n",
      "(GaussianNB(), np.float64(0.9340579710144927), 0.9035087719298246, np.float64(0.8735632183908046))\n",
      "\n"
     ]
    }
   ],
   "source": [
    "cls = VotingClassifier([('logreg', LogisticRegression()), ('svm', SVC()), ('knn', KNeighborsClassifier())])\n",
    "scores = cross_val_score(cls, train_X, train_y, cv=10)\n",
    "cls.fit(train_X, train_y)\n",
    "pred = cls.predict(test_X)\n",
    "score_list.append((cls, scores.mean(), accuracy_score(test_y, pred), f1_score(test_y, pred, pos_label='M')))\n",
    "score_list.sort(key=lambda x: x[1], reverse=True)\n",
    "for elem in score_list:\n",
    "    print(f'{elem}\\n')"
   ]
  },
  {
   "cell_type": "code",
   "execution_count": null,
   "metadata": {},
   "outputs": [],
   "source": []
  }
 ],
 "metadata": {
  "kernelspec": {
   "display_name": "dataanalysis",
   "language": "python",
   "name": "python3"
  },
  "language_info": {
   "codemirror_mode": {
    "name": "ipython",
    "version": 3
   },
   "file_extension": ".py",
   "mimetype": "text/x-python",
   "name": "python",
   "nbconvert_exporter": "python",
   "pygments_lexer": "ipython3",
   "version": "3.9.19"
  }
 },
 "nbformat": 4,
 "nbformat_minor": 2
}
