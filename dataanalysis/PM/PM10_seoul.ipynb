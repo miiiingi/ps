{
 "cells": [
  {
   "cell_type": "markdown",
   "metadata": {},
   "source": [
    "```\n",
    "(1) 시간에 따른 미세먼지 농도를 적절한 그래프로 시각화하세요. 단, x축 이름은 date, y축 이름은 PM-10이어야 합니다.\n",
    "(2) 시간대별 평균 미세먼지 농도를 계산하세요. 즉, t시 (t = 1, 2, ..., 24)의 평균 농도를 구하시오\n",
    "(3) 시점 t의 미세먼지 농도를 시점 t-1, t-2, t-3, t-4의 농도를 이용하여 예측하는 모델을 학습하기 위한 데이터를 구성하시오. 예를 들어, 8일 24시의 미세먼지 농도를 8일 20-23시의 농도로 예측할 수 있도록 구성합니다.\n",
    "(4) (3)에서 만든 데이터를 활용하여 선형 회귀 모델을 학습하라.\n",
    "```"
   ]
  },
  {
   "cell_type": "markdown",
   "metadata": {},
   "source": [
    "### 2번 문제"
   ]
  },
  {
   "cell_type": "code",
   "execution_count": 51,
   "metadata": {},
   "outputs": [
    {
     "name": "stdout",
     "output_type": "stream",
     "text": [
      "month\n",
      "01    25.875\n",
      "02    22.000\n",
      "03    21.000\n",
      "04    21.000\n",
      "05    21.375\n",
      "06    21.375\n",
      "07    20.250\n",
      "08    22.375\n",
      "09    23.125\n",
      "10    22.750\n",
      "11    27.000\n",
      "12    25.125\n",
      "13    25.250\n",
      "14    28.000\n",
      "15    24.500\n",
      "16    24.500\n",
      "17    26.500\n",
      "18    25.500\n",
      "19    25.125\n",
      "20    27.000\n",
      "21    28.125\n",
      "22    28.125\n",
      "23    27.250\n",
      "24    26.625\n",
      "Name: PM-10, dtype: float64\n"
     ]
    }
   ],
   "source": [
    "import pandas as pd\n",
    "df = pd.read_csv('PM10_seoul.csv')\n",
    "df = df.loc[df['date'].isna() == False, :]\n",
    "df['month'] = df['date'].str.split(':').str[1] # 해당하는 부분의 값을 가져온다. \n",
    "print(df.groupby('month')['PM-10'].mean())"
   ]
  },
  {
   "cell_type": "markdown",
   "metadata": {},
   "source": [
    "### 3번 문제"
   ]
  },
  {
   "cell_type": "code",
   "execution_count": 52,
   "metadata": {},
   "outputs": [
    {
     "name": "stdout",
     "output_type": "stream",
     "text": [
      "              date  PM-10 month  PM-10_1  PM-10_2  PM-10_3  PM-10_4\n",
      "0    2022-12-08:24   22.0    24     22.0     25.0     23.0     20.0\n",
      "1    2022-12-08:23   22.0    23     25.0     23.0     20.0     22.0\n",
      "2    2022-12-08:22   25.0    22     23.0     20.0     22.0     19.0\n",
      "3    2022-12-08:21   23.0    21     20.0     22.0     19.0     20.0\n",
      "4    2022-12-08:20   20.0    20     22.0     19.0     20.0     17.0\n",
      "..             ...    ...   ...      ...      ...      ...      ...\n",
      "183  2022-12-01:09   25.0    09     21.0     14.0     16.0     15.0\n",
      "184  2022-12-01:08   21.0    08     14.0     16.0     15.0     15.0\n",
      "185  2022-12-01:07   14.0    07     16.0     15.0     15.0     14.0\n",
      "186  2022-12-01:06   16.0    06     15.0     15.0     14.0     12.0\n",
      "187  2022-12-01:05   15.0    05     15.0     14.0     12.0     15.0\n",
      "\n",
      "[188 rows x 7 columns]\n"
     ]
    }
   ],
   "source": [
    "for k in range(1, 5):\n",
    "    df['PM-10_' + str(k)] = df['PM-10'].shift(-k) # k시간 전의 농도 열을 특성으로 추가. \n",
    "df.dropna(inplace = True) # NA가 생긴 행 제거   \n",
    "print(df)"
   ]
  },
  {
   "cell_type": "code",
   "execution_count": 53,
   "metadata": {},
   "outputs": [],
   "source": [
    "from sklearn.model_selection import train_test_split\n",
    "X = df.drop(['PM-10', 'date', 'month'], axis = 1)\n",
    "y = df['PM-10']\n",
    "train_X, test_X, train_y, test_y = train_test_split(X, y, test_size = 0.2, shuffle=True)\n"
   ]
  },
  {
   "cell_type": "code",
   "execution_count": 50,
   "metadata": {},
   "outputs": [
    {
     "name": "stdout",
     "output_type": "stream",
     "text": [
      "scores: [0.69212286 0.9161061  0.87915811 0.70420277 0.87843794]\n",
      "pred scores: 0.6511163857305355\n"
     ]
    }
   ],
   "source": [
    "from sklearn.model_selection import cross_val_score\n",
    "from sklearn.linear_model import LinearRegression\n",
    "from sklearn.metrics import r2_score\n",
    "cls = LinearRegression()\n",
    "scores = cross_val_score(cls, train_X, train_y, cv = 5)\n",
    "print(f'scores: {scores}')\n",
    "cls.fit(train_X, train_y)\n",
    "pred = cls.predict(test_X)\n",
    "pred_score = r2_score(test_y, pred)\n",
    "print(f'pred scores: {pred_score}')"
   ]
  },
  {
   "cell_type": "code",
   "execution_count": null,
   "metadata": {},
   "outputs": [],
   "source": []
  }
 ],
 "metadata": {
  "kernelspec": {
   "display_name": "dataanalysis",
   "language": "python",
   "name": "python3"
  },
  "language_info": {
   "codemirror_mode": {
    "name": "ipython",
    "version": 3
   },
   "file_extension": ".py",
   "mimetype": "text/x-python",
   "name": "python",
   "nbconvert_exporter": "python",
   "pygments_lexer": "ipython3",
   "version": "3.9.19"
  }
 },
 "nbformat": 4,
 "nbformat_minor": 2
}
