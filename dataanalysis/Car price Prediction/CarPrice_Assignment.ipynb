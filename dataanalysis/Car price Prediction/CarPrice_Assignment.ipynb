{
 "cells": [
  {
   "cell_type": "code",
   "execution_count": 248,
   "metadata": {},
   "outputs": [
    {
     "name": "stdout",
     "output_type": "stream",
     "text": [
      "        symboling                   CarName fueltype aspiration doornumber  \\\n",
      "car_ID                                                                       \n",
      "1               3        alfa-romero giulia      gas        std        two   \n",
      "2               3       alfa-romero stelvio      gas        std        two   \n",
      "3               1  alfa-romero Quadrifoglio      gas        std        two   \n",
      "4               2               audi 100 ls      gas        std       four   \n",
      "5               2                audi 100ls      gas        std       four   \n",
      "\n",
      "            carbody drivewheel enginelocation  wheelbase  carlength  ...  \\\n",
      "car_ID                                                               ...   \n",
      "1       convertible        rwd          front       88.6      168.8  ...   \n",
      "2       convertible        rwd          front       88.6      168.8  ...   \n",
      "3         hatchback        rwd          front       94.5      171.2  ...   \n",
      "4             sedan        fwd          front       99.8      176.6  ...   \n",
      "5             sedan        4wd          front       99.4      176.6  ...   \n",
      "\n",
      "        enginesize  fuelsystem  boreratio stroke compressionratio  horsepower  \\\n",
      "car_ID                                                                          \n",
      "1              130        mpfi       3.47   2.68              9.0         111   \n",
      "2              130        mpfi       3.47   2.68              9.0         111   \n",
      "3              152        mpfi       2.68   3.47              9.0         154   \n",
      "4              109        mpfi       3.19   3.40             10.0         102   \n",
      "5              136        mpfi       3.19   3.40              8.0         115   \n",
      "\n",
      "       peakrpm  citympg  highwaympg    price  \n",
      "car_ID                                        \n",
      "1         5000       21          27  13495.0  \n",
      "2         5000       21          27  16500.0  \n",
      "3         5000       19          26  16500.0  \n",
      "4         5500       24          30  13950.0  \n",
      "5         5500       18          22  17450.0  \n",
      "\n",
      "[5 rows x 25 columns]\n",
      "<class 'pandas.core.frame.DataFrame'>\n",
      "Index: 205 entries, 1 to 205\n",
      "Data columns (total 25 columns):\n",
      " #   Column            Non-Null Count  Dtype  \n",
      "---  ------            --------------  -----  \n",
      " 0   symboling         205 non-null    int64  \n",
      " 1   CarName           205 non-null    object \n",
      " 2   fueltype          205 non-null    object \n",
      " 3   aspiration        205 non-null    object \n",
      " 4   doornumber        205 non-null    object \n",
      " 5   carbody           205 non-null    object \n",
      " 6   drivewheel        205 non-null    object \n",
      " 7   enginelocation    205 non-null    object \n",
      " 8   wheelbase         205 non-null    float64\n",
      " 9   carlength         205 non-null    float64\n",
      " 10  carwidth          205 non-null    float64\n",
      " 11  carheight         205 non-null    float64\n",
      " 12  curbweight        205 non-null    int64  \n",
      " 13  enginetype        205 non-null    object \n",
      " 14  cylindernumber    205 non-null    object \n",
      " 15  enginesize        205 non-null    int64  \n",
      " 16  fuelsystem        205 non-null    object \n",
      " 17  boreratio         205 non-null    float64\n",
      " 18  stroke            205 non-null    float64\n",
      " 19  compressionratio  205 non-null    float64\n",
      " 20  horsepower        205 non-null    int64  \n",
      " 21  peakrpm           205 non-null    int64  \n",
      " 22  citympg           205 non-null    int64  \n",
      " 23  highwaympg        205 non-null    int64  \n",
      " 24  price             205 non-null    float64\n",
      "dtypes: float64(8), int64(7), object(10)\n",
      "memory usage: 41.6+ KB\n",
      "None\n"
     ]
    }
   ],
   "source": [
    "import pandas as pd\n",
    "df = pd.read_csv('CarPrice_Assignment.csv')\n",
    "df.set_index('car_ID', inplace=True)\n",
    "print(df.head())\n",
    "print(df.info())"
   ]
  },
  {
   "cell_type": "code",
   "execution_count": 249,
   "metadata": {},
   "outputs": [],
   "source": [
    "df.loc[df.loc[:, 'CarName'] == 'audi 100 ls', 'CarName'] = 'audi 100ls'\n",
    "df.loc[df.loc[:, 'CarName'] == 'maxda glc deluxe', 'CarName'] = 'mazda glc deluxe'\n",
    "df.loc[df.loc[:, 'CarName'] == 'maxda rx3', 'CarName'] = 'mazda rx3'\n",
    "df.loc[df.loc[:, 'CarName'] == 'Nissan versa', 'CarName'] = 'nissan versa'\n",
    "df.loc[df.loc[:, 'CarName'] == 'porcshce panamera', 'CarName'] = 'porsche panamera'\n",
    "df.loc[df.loc[:, 'CarName'] == 'toyouta tercel', 'CarName'] = 'toyota tercel'\n",
    "df.loc[df.loc[:, 'CarName'] == 'vokswagen rabbit', 'CarName'] = 'volkswagen rabbit tercel'\n",
    "df.loc[df.loc[:, 'CarName'] == 'subaru', 'CarName'] = 'subaru '\n",
    "\n",
    "df['CarType'] = df['CarName'].str.split(' ').str[1:].apply(' '.join)\n",
    "df['CarBrand'] = df['CarName'].str.split(' ').str[0]\n",
    "df = df.drop(['CarName'], axis=1)\n",
    "\n",
    "df.loc[df.loc[:, 'doornumber'] == 'two', 'doornumber'] = 2\n",
    "df.loc[df.loc[:, 'doornumber'] == 'four', 'doornumber'] = 4\n",
    "\n",
    "df.loc[df.loc[:, 'cylindernumber'] == 'four', 'cylindernumber'] = 4\n",
    "df.loc[df.loc[:, 'cylindernumber'] == 'six', 'cylindernumber'] = 6\n",
    "df.loc[df.loc[:, 'cylindernumber'] == 'five', 'cylindernumber'] = 5\n",
    "df.loc[df.loc[:, 'cylindernumber'] == 'three', 'cylindernumber'] = 3\n",
    "df.loc[df.loc[:, 'cylindernumber'] == 'twelve', 'cylindernumber'] = 12\n",
    "df.loc[df.loc[:, 'cylindernumber'] == 'two', 'cylindernumber'] = 2\n",
    "df.loc[df.loc[:, 'cylindernumber'] == 'eight', 'cylindernumber'] = 8\n",
    "\n",
    "# 이렇게도 변환 가능!\n",
    "# X['doornumber'] = X['doornumber'].replace({'two': 2, 'four': 4})\n",
    "# X['cylindernumber'] = X['cylindernumber'].replace({'two': 2, 'three': 3, 'four': 4, 'five': 5, 'six': 6, 'eight': 8, 'twelve': 12})\n"
   ]
  },
  {
   "cell_type": "code",
   "execution_count": 250,
   "metadata": {},
   "outputs": [],
   "source": [
    "X = df.drop(['price'], axis=1)\n",
    "y = df['price']"
   ]
  },
  {
   "cell_type": "code",
   "execution_count": 251,
   "metadata": {},
   "outputs": [
    {
     "name": "stdout",
     "output_type": "stream",
     "text": [
      "              column       value\n",
      "0          symboling    9.270639\n",
      "1          wheelbase   42.839697\n",
      "2          carlength   74.219915\n",
      "3           carwidth   44.677537\n",
      "4          carheight   15.093171\n",
      "5         curbweight   78.595062\n",
      "6         enginesize   23.201273\n",
      "7          boreratio   17.436821\n",
      "8             stroke   16.716476\n",
      "9   compressionratio    3.055188\n",
      "10        horsepower   25.059818\n",
      "11           peakrpm    8.994251\n",
      "12           citympg  117.911475\n",
      "13        highwaympg  133.699366\n"
     ]
    }
   ],
   "source": [
    "from statsmodels.stats.outliers_influence import variance_inflation_factor\n",
    "from sklearn.preprocessing import MinMaxScaler, StandardScaler\n",
    "vif = pd.DataFrame()\n",
    "X_numeric = X.select_dtypes(exclude='object')\n",
    "scaled_X_numeric = MinMaxScaler().fit_transform(X_numeric.values)\n",
    "vif['column'] = X_numeric.columns\n",
    "vif['value'] = [variance_inflation_factor(scaled_X_numeric, i) for i in range(len(X_numeric.columns))]\n",
    "print(vif)\n"
   ]
  },
  {
   "cell_type": "code",
   "execution_count": 252,
   "metadata": {},
   "outputs": [],
   "source": [
    "from sklearn.model_selection import train_test_split\n",
    "X = pd.get_dummies(X, columns=['fueltype', 'aspiration', 'carbody', 'drivewheel', 'enginelocation', 'CarType', 'CarBrand', 'enginetype', 'fuelsystem'])\n",
    "X_train, X_test, y_train, y_test = train_test_split(X, y, test_size=0.2, random_state=42, shuffle=True)\n",
    "X_train, X_test = StandardScaler().fit_transform(X_train), StandardScaler().fit_transform(X_test)"
   ]
  },
  {
   "cell_type": "code",
   "execution_count": 253,
   "metadata": {},
   "outputs": [],
   "source": [
    "from sklearn.linear_model import LinearRegression, Ridge\n",
    "from sklearn.svm import SVR\n",
    "\n",
    "from sklearn.neighbors import KNeighborsRegressor\n",
    "from sklearn.ensemble import RandomForestRegressor, AdaBoostRegressor, GradientBoostingRegressor, VotingRegressor, BaggingRegressor, ExtraTreesRegressor\n",
    "from sklearn.model_selection import cross_val_score\n",
    "from sklearn.metrics import r2_score"
   ]
  },
  {
   "cell_type": "code",
   "execution_count": 254,
   "metadata": {},
   "outputs": [
    {
     "name": "stdout",
     "output_type": "stream",
     "text": [
      "scores: [0.8585384  0.81408504 0.87741602 0.79068524 0.79565567]\n",
      "r2: 0.8024839273667558\n"
     ]
    }
   ],
   "source": [
    "estimator = Ridge()\n",
    "scores = cross_val_score(estimator, X_train, y_train, cv=5)\n",
    "estimator.fit(X_train, y_train)\n",
    "scores_pred = estimator.predict(X_test)\n",
    "r2 = r2_score(y_test, scores_pred)\n",
    "print(f'scores: {scores}')\n",
    "print(f'r2: {r2}')\n"
   ]
  },
  {
   "cell_type": "code",
   "execution_count": 255,
   "metadata": {},
   "outputs": [
    {
     "name": "stdout",
     "output_type": "stream",
     "text": [
      "scores: [-0.02812237 -0.18165086 -0.00154721 -0.26173506 -0.21687321]\n",
      "r2: -0.10184409168213104\n"
     ]
    }
   ],
   "source": [
    "estimator = SVR()\n",
    "scores = cross_val_score(estimator, X_train, y_train, cv=5)\n",
    "estimator.fit(X_train, y_train)\n",
    "scores_pred = estimator.predict(X_test)\n",
    "r2 = r2_score(y_test, scores_pred)\n",
    "print(f'scores: {scores}')\n",
    "print(f'r2: {r2}')\n"
   ]
  },
  {
   "cell_type": "code",
   "execution_count": 257,
   "metadata": {},
   "outputs": [
    {
     "name": "stdout",
     "output_type": "stream",
     "text": [
      "scores: [0.88399146 0.94757386 0.74861885 0.94453339 0.90237836]\n",
      "r2: 0.8829899102911083\n"
     ]
    }
   ],
   "source": [
    "estimator = RandomForestRegressor()\n",
    "scores = cross_val_score(estimator, X_train, y_train, cv=5)\n",
    "estimator.fit(X_train, y_train)\n",
    "scores_pred = estimator.predict(X_test)\n",
    "r2 = r2_score(y_test, scores_pred)\n",
    "print(f'scores: {scores}')\n",
    "print(f'r2: {r2}')\n"
   ]
  },
  {
   "cell_type": "code",
   "execution_count": 258,
   "metadata": {},
   "outputs": [
    {
     "name": "stdout",
     "output_type": "stream",
     "text": [
      "scores: [0.87434875 0.91463505 0.77858387 0.93421245 0.8842767 ]\n",
      "r2: 0.8666246208544195\n"
     ]
    }
   ],
   "source": [
    "estimator = AdaBoostRegressor()\n",
    "scores = cross_val_score(estimator, X_train, y_train, cv=5)\n",
    "estimator.fit(X_train, y_train)\n",
    "scores_pred = estimator.predict(X_test)\n",
    "r2 = r2_score(y_test, scores_pred)\n",
    "print(f'scores: {scores}')\n",
    "print(f'r2: {r2}')\n"
   ]
  },
  {
   "cell_type": "code",
   "execution_count": 259,
   "metadata": {},
   "outputs": [
    {
     "name": "stdout",
     "output_type": "stream",
     "text": [
      "scores: [0.88638876 0.92203886 0.7648156  0.94345447 0.90407798]\n",
      "r2: 0.9136366747075808\n"
     ]
    }
   ],
   "source": [
    "estimator = GradientBoostingRegressor()\n",
    "scores = cross_val_score(estimator, X_train, y_train, cv=5)\n",
    "estimator.fit(X_train, y_train)\n",
    "scores_pred = estimator.predict(X_test)\n",
    "r2 = r2_score(y_test, scores_pred)\n",
    "print(f'scores: {scores}')\n",
    "print(f'r2: {r2}')\n"
   ]
  },
  {
   "cell_type": "code",
   "execution_count": 260,
   "metadata": {},
   "outputs": [
    {
     "name": "stdout",
     "output_type": "stream",
     "text": [
      "scores: [0.89133283 0.92524843 0.75418848 0.92789162 0.91357253]\n",
      "r2: 0.8750733183876382\n"
     ]
    }
   ],
   "source": [
    "import xgboost\n",
    "estimator = xgboost.XGBRegressor()\n",
    "scores = cross_val_score(estimator, X_train, y_train, cv=5)\n",
    "estimator.fit(X_train, y_train)\n",
    "scores_pred = estimator.predict(X_test)\n",
    "r2 = r2_score(y_test, scores_pred)\n",
    "print(f'scores: {scores}')\n",
    "print(f'r2: {r2}')\n"
   ]
  },
  {
   "cell_type": "code",
   "execution_count": 266,
   "metadata": {},
   "outputs": [
    {
     "name": "stdout",
     "output_type": "stream",
     "text": [
      "scores: [0.87948465 0.93853563 0.75222276 0.92382963 0.88271982]\n",
      "r2: 0.8850187047543997\n"
     ]
    }
   ],
   "source": [
    "estimator = BaggingRegressor()\n",
    "scores = cross_val_score(estimator, X_train, y_train, cv=5)\n",
    "estimator.fit(X_train, y_train)\n",
    "scores_pred = estimator.predict(X_test)\n",
    "r2 = r2_score(y_test, scores_pred)\n",
    "print(f'scores: {scores}')\n",
    "print(f'r2: {r2}')"
   ]
  },
  {
   "cell_type": "code",
   "execution_count": 267,
   "metadata": {},
   "outputs": [
    {
     "name": "stdout",
     "output_type": "stream",
     "text": [
      "scores: [0.94831264 0.94051827 0.82716816 0.92371447 0.90444227]\n",
      "r2: 0.8970013251464704\n"
     ]
    }
   ],
   "source": [
    "estimator = ExtraTreesRegressor()\n",
    "scores = cross_val_score(estimator, X_train, y_train, cv=5)\n",
    "estimator.fit(X_train, y_train)\n",
    "scores_pred = estimator.predict(X_test)\n",
    "r2 = r2_score(y_test, scores_pred)\n",
    "print(f'scores: {scores}')\n",
    "print(f'r2: {r2}')"
   ]
  },
  {
   "cell_type": "code",
   "execution_count": 269,
   "metadata": {},
   "outputs": [
    {
     "name": "stdout",
     "output_type": "stream",
     "text": [
      "scores: [0.90563829 0.94471801 0.77438643 0.94728738 0.89920534]\n",
      "r2: 0.9009503878395411\n"
     ]
    }
   ],
   "source": [
    "estimator = VotingRegressor(estimators=[('rf', RandomForestRegressor()), ('gb', GradientBoostingRegressor()), ('bagging', BaggingRegressor()), ('et', ExtraTreesRegressor())])\n",
    "scores = cross_val_score(estimator, X_train, y_train, cv=5)\n",
    "estimator.fit(X_train, y_train)\n",
    "scores_pred = estimator.predict(X_test)\n",
    "r2 = r2_score(y_test, scores_pred)\n",
    "print(f'scores: {scores}')\n",
    "print(f'r2: {r2}')"
   ]
  },
  {
   "cell_type": "code",
   "execution_count": null,
   "metadata": {},
   "outputs": [],
   "source": []
  }
 ],
 "metadata": {
  "kernelspec": {
   "display_name": "dataanalysis",
   "language": "python",
   "name": "python3"
  },
  "language_info": {
   "codemirror_mode": {
    "name": "ipython",
    "version": 3
   },
   "file_extension": ".py",
   "mimetype": "text/x-python",
   "name": "python",
   "nbconvert_exporter": "python",
   "pygments_lexer": "ipython3",
   "version": "3.9.19"
  }
 },
 "nbformat": 4,
 "nbformat_minor": 2
}
